{
 "cells": [
  {
   "cell_type": "markdown",
   "id": "27a8fbd6-5690-445a-a660-8abb82e738c0",
   "metadata": {},
   "source": [
    "## 02_01 Multi Agent Conversation"
   ]
  },
  {
   "cell_type": "code",
   "execution_count": null,
   "id": "68750c4d-8b62-4ce5-9cfb-a60aad5a7a10",
   "metadata": {},
   "outputs": [],
   "source": [
    "## import required libraries\n",
    "import os\n",
    "from autogen import ConversableAgent\n",
    "from dotenv import load_dotenv\n",
    "\n",
    "\n",
    "load_dotenv() # load environment variables from .env file"
   ]
  },
  {
   "cell_type": "code",
   "execution_count": null,
   "id": "b1394d80-dcda-4d30-a23c-c60402a15002",
   "metadata": {},
   "outputs": [],
   "source": [
    "config_list = [\n",
    "            {\n",
    "                \"model\": \"gpt-4o\",\n",
    "                \"api_key\": os.getenv(\"OPENAI_API_KEY\")\n",
    "            }\n",
    "        ]"
   ]
  },
  {
   "cell_type": "markdown",
   "id": "2461ba4c-a4af-4832-81e2-083d2d987812",
   "metadata": {},
   "source": [
    "## Conversation between student and tutor agent"
   ]
  },
  {
   "cell_type": "code",
   "execution_count": null,
   "id": "5e9b6fcd-0168-44a2-998e-ea2de2127a67",
   "metadata": {},
   "outputs": [],
   "source": [
    "# Create a student agent\n",
    "student = ConversableAgent(\n",
    "    \"student\",\n",
    "    system_message=\"You are a high school student struggling with algebra. You need help understanding quadratic equations.\",\n",
    "    llm_config={\n",
    "        \"config_list\": config_list\n",
    "    },\n",
    "    human_input_mode=\"NEVER\"\n",
    ")"
   ]
  },
  {
   "cell_type": "code",
   "execution_count": null,
   "id": "da47222b-b29c-4960-91f6-86347003a132",
   "metadata": {},
   "outputs": [],
   "source": [
    "# Create a tutor agent\n",
    "tutor = ConversableAgent(\n",
    "    \"tutor\",\n",
    "    system_message=\"You are a patient and knowledgeable math tutor. Your goal is to help students understand algebra concepts, particularly quadratic equations.\",\n",
    "    llm_config={\n",
    "        \"config_list\": config_list\n",
    "    },\n",
    "    human_input_mode=\"NEVER\"\n",
    ")"
   ]
  },
  {
   "cell_type": "code",
   "execution_count": null,
   "id": "bc6ea692-2870-4bc4-ba22-ff6398621674",
   "metadata": {},
   "outputs": [],
   "source": [
    "## start a learning session\n",
    "result = student.initiate_chat(\n",
    "    recipient=tutor,\n",
    "    message=\"I'm really struggling with quadratic equations. Can you help me understand them better?\",\n",
    "    max_turns=2\n",
    ")"
   ]
  },
  {
   "cell_type": "markdown",
   "id": "2a568b3e-1a55-422e-ac86-c8aace84b6ac",
   "metadata": {},
   "source": [
    "## Printing results"
   ]
  },
  {
   "cell_type": "code",
   "execution_count": null,
   "id": "1886e6e1-203d-4a11-9086-e242caceaaa9",
   "metadata": {},
   "outputs": [],
   "source": [
    "import pprint\n",
    "\n",
    "pprint.pprint(result.chat_history)"
   ]
  },
  {
   "cell_type": "code",
   "execution_count": null,
   "id": "6bea7fcc-4e52-4c67-ac18-66f3097ea06f",
   "metadata": {},
   "outputs": [],
   "source": [
    "pprint.pprint(result.cost)"
   ]
  },
  {
   "cell_type": "code",
   "execution_count": null,
   "id": "ae6fa0b7-38a7-4d56-868b-f79f4c6a54bd",
   "metadata": {},
   "outputs": [],
   "source": [
    "pprint.pprint(result.summary)"
   ]
  },
  {
   "cell_type": "markdown",
   "id": "0a1c7eda-47c8-46e2-9ef9-b510b079d6cf",
   "metadata": {},
   "source": [
    "## Terminating condition - `is_termination_msg`"
   ]
  },
  {
   "cell_type": "code",
   "execution_count": null,
   "id": "770b4668-31eb-480d-92e8-83131dcba8b2",
   "metadata": {},
   "outputs": [],
   "source": [
    "student = ConversableAgent(\n",
    "    \"student\",\n",
    "    system_message=\"You are a high school student struggling with algebra. You need help understanding quadratic equations.\",\n",
    "    llm_config={\n",
    "        \"config_list\": config_list\n",
    "    },\n",
    "    human_input_mode=\"NEVER\",\n",
    "    is_termination_msg=lambda msg: \"exit\" in msg[\"content\"],\n",
    ")\n",
    "\n",
    "tutor = ConversableAgent(\n",
    "    \"tutor\",\n",
    "    system_message=\"You are a patient and knowledgeable math tutor. Your goal is to help students understand algebra concepts, particularly quadratic equations.\",\n",
    "    llm_config={\n",
    "        \"config_list\": config_list\n",
    "    },\n",
    "    human_input_mode=\"NEVER\",\n",
    "    is_termination_msg=lambda msg: \"exit\" in msg[\"content\"],\n",
    ")"
   ]
  },
  {
   "cell_type": "code",
   "execution_count": null,
   "id": "314df707-9f69-4e0b-ae4a-a897bab649da",
   "metadata": {},
   "outputs": [],
   "source": [
    "result = student.initiate_chat(\n",
    "    tutor,\n",
    "    message=\"I'm really struggling with quadratic equations. Can you help me understand them better?\",\n",
    ")"
   ]
  },
  {
   "cell_type": "code",
   "execution_count": null,
   "id": "7a1bf3bc-51d4-491a-8e79-917e3b3f151d",
   "metadata": {},
   "outputs": [],
   "source": [
    "student.send(message=\"What's last joke we talked about?\", recipient=tutor)"
   ]
  }
 ],
 "metadata": {
  "kernelspec": {
   "display_name": "Python 3 (ipykernel)",
   "language": "python",
   "name": "python3"
  },
  "language_info": {
   "codemirror_mode": {
    "name": "ipython",
    "version": 3
   },
   "file_extension": ".py",
   "mimetype": "text/x-python",
   "name": "python",
   "nbconvert_exporter": "python",
   "pygments_lexer": "ipython3",
   "version": "3.12.3"
  }
 },
 "nbformat": 4,
 "nbformat_minor": 5
}
