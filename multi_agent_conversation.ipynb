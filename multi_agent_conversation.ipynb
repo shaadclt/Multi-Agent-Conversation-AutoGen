{
  "cells": [
    {
      "cell_type": "markdown",
      "id": "27a8fbd6-5690-445a-a660-8abb82e738c0",
      "metadata": {
        "id": "27a8fbd6-5690-445a-a660-8abb82e738c0"
      },
      "source": [
        "## 02_01 Multi Agent Conversation"
      ]
    },
    {
      "cell_type": "code",
      "source": [
        "!pip install pyautogen groq -q"
      ],
      "metadata": {
        "colab": {
          "base_uri": "https://localhost:8080/"
        },
        "id": "Rg-FVJ_6nt8-",
        "outputId": "cf1b4f27-e8c8-4cd8-e3e6-c16ed9d1ef0a"
      },
      "id": "Rg-FVJ_6nt8-",
      "execution_count": 2,
      "outputs": [
        {
          "output_type": "stream",
          "name": "stdout",
          "text": [
            "\u001b[?25l   \u001b[90m━━━━━━━━━━━━━━━━━━━━━━━━━━━━━━━━━━━━━━━━\u001b[0m \u001b[32m0.0/781.7 kB\u001b[0m \u001b[31m?\u001b[0m eta \u001b[36m-:--:--\u001b[0m\r\u001b[2K   \u001b[90m━━━━━━━━━━━━━━━━━━━━━━━━━━━━━━━━━━━━━━━━\u001b[0m \u001b[32m781.7/781.7 kB\u001b[0m \u001b[31m27.7 MB/s\u001b[0m eta \u001b[36m0:00:00\u001b[0m\n",
            "\u001b[2K   \u001b[90m━━━━━━━━━━━━━━━━━━━━━━━━━━━━━━━━━━━━━━━━\u001b[0m \u001b[32m127.5/127.5 kB\u001b[0m \u001b[31m5.6 MB/s\u001b[0m eta \u001b[36m0:00:00\u001b[0m\n",
            "\u001b[2K   \u001b[90m━━━━━━━━━━━━━━━━━━━━━━━━━━━━━━━━━━━━━━━━\u001b[0m \u001b[32m45.5/45.5 kB\u001b[0m \u001b[31m1.7 MB/s\u001b[0m eta \u001b[36m0:00:00\u001b[0m\n",
            "\u001b[2K   \u001b[90m━━━━━━━━━━━━━━━━━━━━━━━━━━━━━━━━━━━━━━━━\u001b[0m \u001b[32m147.8/147.8 kB\u001b[0m \u001b[31m11.3 MB/s\u001b[0m eta \u001b[36m0:00:00\u001b[0m\n",
            "\u001b[2K   \u001b[90m━━━━━━━━━━━━━━━━━━━━━━━━━━━━━━━━━━━━━━━━\u001b[0m \u001b[32m1.2/1.2 MB\u001b[0m \u001b[31m40.0 MB/s\u001b[0m eta \u001b[36m0:00:00\u001b[0m\n",
            "\u001b[?25h"
          ]
        }
      ]
    },
    {
      "cell_type": "code",
      "execution_count": 3,
      "id": "68750c4d-8b62-4ce5-9cfb-a60aad5a7a10",
      "metadata": {
        "id": "68750c4d-8b62-4ce5-9cfb-a60aad5a7a10"
      },
      "outputs": [],
      "source": [
        "## import required libraries\n",
        "import os\n",
        "from autogen import ConversableAgent\n",
        "from google.colab import userdata\n",
        "from groq import Groq"
      ]
    },
    {
      "cell_type": "code",
      "execution_count": 4,
      "id": "b1394d80-dcda-4d30-a23c-c60402a15002",
      "metadata": {
        "id": "b1394d80-dcda-4d30-a23c-c60402a15002"
      },
      "outputs": [],
      "source": [
        "# Configure\n",
        "config_list = [{\n",
        "    \"model\": \"llama-3.3-70b-versatile\",\n",
        "    \"api_key\": userdata.get(\"GROQ_API_KEY\"),\n",
        "    \"api_type\": \"groq\"\n",
        "}]"
      ]
    },
    {
      "cell_type": "markdown",
      "id": "2461ba4c-a4af-4832-81e2-083d2d987812",
      "metadata": {
        "id": "2461ba4c-a4af-4832-81e2-083d2d987812"
      },
      "source": [
        "## Conversation between student and tutor agent"
      ]
    },
    {
      "cell_type": "code",
      "execution_count": 5,
      "id": "5e9b6fcd-0168-44a2-998e-ea2de2127a67",
      "metadata": {
        "id": "5e9b6fcd-0168-44a2-998e-ea2de2127a67"
      },
      "outputs": [],
      "source": [
        "# Create a student agent\n",
        "student = ConversableAgent(\n",
        "    \"student\",\n",
        "    system_message=\"You are a high school student struggling with algebra. You need help understanding quadratic equations.\",\n",
        "    llm_config={\n",
        "        \"config_list\": config_list\n",
        "    },\n",
        "    human_input_mode=\"NEVER\"\n",
        ")"
      ]
    },
    {
      "cell_type": "code",
      "execution_count": 6,
      "id": "da47222b-b29c-4960-91f6-86347003a132",
      "metadata": {
        "id": "da47222b-b29c-4960-91f6-86347003a132"
      },
      "outputs": [],
      "source": [
        "# Create a tutor agent\n",
        "tutor = ConversableAgent(\n",
        "    \"tutor\",\n",
        "    system_message=\"You are a patient and knowledgeable math tutor. Your goal is to help students understand algebra concepts, particularly quadratic equations.\",\n",
        "    llm_config={\n",
        "        \"config_list\": config_list\n",
        "    },\n",
        "    human_input_mode=\"NEVER\"\n",
        ")"
      ]
    },
    {
      "cell_type": "code",
      "execution_count": 7,
      "id": "bc6ea692-2870-4bc4-ba22-ff6398621674",
      "metadata": {
        "colab": {
          "base_uri": "https://localhost:8080/"
        },
        "id": "bc6ea692-2870-4bc4-ba22-ff6398621674",
        "outputId": "6e5175ac-4b6e-492e-e917-0027fdd6f891"
      },
      "outputs": [
        {
          "output_type": "stream",
          "name": "stdout",
          "text": [
            "student (to tutor):\n",
            "\n",
            "I'm really struggling with quadratic equations. Can you help me understand them better?\n",
            "\n",
            "--------------------------------------------------------------------------------\n",
            "tutor (to student):\n",
            "\n",
            "Quadratic equations can be challenging, but with a clear understanding of the concepts, you'll become proficient in no time. Let's start with the basics.\n",
            "\n",
            "A quadratic equation is a polynomial equation of degree two, which means the highest power of the variable (usually x) is two. The general form of a quadratic equation is:\n",
            "\n",
            "ax^2 + bx + c = 0\n",
            "\n",
            "where a, b, and c are constants, and x is the variable. The coefficient \"a\" cannot be zero, as that would make it a linear equation.\n",
            "\n",
            "For example, the equation x^2 + 5x + 6 = 0 is a quadratic equation, where a = 1, b = 5, and c = 6.\n",
            "\n",
            "To solve quadratic equations, there are several methods, including:\n",
            "\n",
            "1. **Factoring**: We can factor the left side of the equation into the product of two binomials.\n",
            "2. **Quadratic Formula**: We can use the quadratic formula, x = (-b ± √(b^2 - 4ac)) / 2a, to find the solutions.\n",
            "3. **Graphing**: We can graph the related function, y = ax^2 + bx + c, and find the x-intercepts, which represent the solutions to the equation.\n",
            "\n",
            "Let's try to solve a simple quadratic equation together. What type of equation would you like to start with? Would you like to try factoring, using the quadratic formula, or graphing?\n",
            "\n",
            "--------------------------------------------------------------------------------\n"
          ]
        },
        {
          "output_type": "stream",
          "name": "stderr",
          "text": [
            "/usr/local/lib/python3.11/dist-packages/autogen/oai/groq.py:303: UserWarning: Cost calculation not available for model llama-3.3-70b-versatile\n",
            "  warnings.warn(f\"Cost calculation not available for model {model}\", UserWarning)\n"
          ]
        },
        {
          "output_type": "stream",
          "name": "stdout",
          "text": [
            "student (to tutor):\n",
            "\n",
            "I think I'd like to start with factoring. It seems like it could be a more straightforward method, and I've had some experience with factoring in other math classes. But I have to admit, I'm not really sure how to factor a quadratic equation. Can you walk me through the steps?\n",
            "\n",
            "Also, can you give me an example of a quadratic equation that can be factored easily, so I can see how it works? Maybe something like x^2 + 5x + 6 = 0, which you mentioned earlier? How would I factor that equation?\n",
            "\n",
            "--------------------------------------------------------------------------------\n",
            "tutor (to student):\n",
            "\n",
            "Factoring is a great method to start with, and it's wonderful that you have some experience with factoring from other math classes.\n",
            "\n",
            "The steps to factor a quadratic equation are:\n",
            "\n",
            "1. **Check if the coefficient of x^2 is 1**: If it's not 1, you may need to factor out the coefficient of x^2 first.\n",
            "2. **Look for two numbers whose product is c (the constant term) and whose sum is b (the coefficient of x)**: These two numbers will help you factor the quadratic equation.\n",
            "3. **Write the quadratic equation as the product of two binomials**: Use the two numbers you found in step 2 to create the factored form.\n",
            "\n",
            "Let's use the example you mentioned: x^2 + 5x + 6 = 0.\n",
            "\n",
            "To factor this equation, we need to find two numbers whose product is 6 (the constant term) and whose sum is 5 (the coefficient of x). Can you think of two numbers that fit this description?\n",
            "\n",
            "After a moment's thought, you might realize that the numbers 2 and 3 work: 2 × 3 = 6, and 2 + 3 = 5.\n",
            "\n",
            "Now, we can write the quadratic equation as the product of two binomials:\n",
            "\n",
            "x^2 + 5x + 6 = (x + 2)(x + 3) = 0\n",
            "\n",
            "This is the factored form of the equation. From here, we can set each binomial equal to zero and solve for x:\n",
            "\n",
            "x + 2 = 0 or x + 3 = 0\n",
            "\n",
            "Solving for x, we get:\n",
            "\n",
            "x = -2 or x = -3\n",
            "\n",
            "So, the solutions to the equation x^2 + 5x + 6 = 0 are x = -2 and x = -3.\n",
            "\n",
            "Make sense? Do you have any questions about the process or the example?\n",
            "\n",
            "--------------------------------------------------------------------------------\n",
            "\n",
            ">>>>>>>> TERMINATING RUN (bae520f9-937e-495d-bec9-199a79d28c7b): Maximum turns (2) reached\n"
          ]
        }
      ],
      "source": [
        "## start a learning session\n",
        "result = student.initiate_chat(\n",
        "    recipient=tutor,\n",
        "    message=\"I'm really struggling with quadratic equations. Can you help me understand them better?\",\n",
        "    max_turns=2\n",
        ")"
      ]
    },
    {
      "cell_type": "markdown",
      "id": "2a568b3e-1a55-422e-ac86-c8aace84b6ac",
      "metadata": {
        "id": "2a568b3e-1a55-422e-ac86-c8aace84b6ac"
      },
      "source": [
        "## Printing results"
      ]
    },
    {
      "cell_type": "code",
      "execution_count": 8,
      "id": "1886e6e1-203d-4a11-9086-e242caceaaa9",
      "metadata": {
        "colab": {
          "base_uri": "https://localhost:8080/"
        },
        "id": "1886e6e1-203d-4a11-9086-e242caceaaa9",
        "outputId": "f265e545-b508-45e8-ac40-ac47eda73ee2"
      },
      "outputs": [
        {
          "output_type": "stream",
          "name": "stdout",
          "text": [
            "[{'content': \"I'm really struggling with quadratic equations. Can you help me \"\n",
            "             'understand them better?',\n",
            "  'name': 'student',\n",
            "  'role': 'assistant'},\n",
            " {'content': 'Quadratic equations can be challenging, but with a clear '\n",
            "             \"understanding of the concepts, you'll become proficient in no \"\n",
            "             \"time. Let's start with the basics.\\n\"\n",
            "             '\\n'\n",
            "             'A quadratic equation is a polynomial equation of degree two, '\n",
            "             'which means the highest power of the variable (usually x) is '\n",
            "             'two. The general form of a quadratic equation is:\\n'\n",
            "             '\\n'\n",
            "             'ax^2 + bx + c = 0\\n'\n",
            "             '\\n'\n",
            "             'where a, b, and c are constants, and x is the variable. The '\n",
            "             'coefficient \"a\" cannot be zero, as that would make it a linear '\n",
            "             'equation.\\n'\n",
            "             '\\n'\n",
            "             'For example, the equation x^2 + 5x + 6 = 0 is a quadratic '\n",
            "             'equation, where a = 1, b = 5, and c = 6.\\n'\n",
            "             '\\n'\n",
            "             'To solve quadratic equations, there are several methods, '\n",
            "             'including:\\n'\n",
            "             '\\n'\n",
            "             '1. **Factoring**: We can factor the left side of the equation '\n",
            "             'into the product of two binomials.\\n'\n",
            "             '2. **Quadratic Formula**: We can use the quadratic formula, x = '\n",
            "             '(-b ± √(b^2 - 4ac)) / 2a, to find the solutions.\\n'\n",
            "             '3. **Graphing**: We can graph the related function, y = ax^2 + '\n",
            "             'bx + c, and find the x-intercepts, which represent the solutions '\n",
            "             'to the equation.\\n'\n",
            "             '\\n'\n",
            "             \"Let's try to solve a simple quadratic equation together. What \"\n",
            "             'type of equation would you like to start with? Would you like to '\n",
            "             'try factoring, using the quadratic formula, or graphing?',\n",
            "  'name': 'tutor',\n",
            "  'role': 'user'},\n",
            " {'content': \"I think I'd like to start with factoring. It seems like it could \"\n",
            "             \"be a more straightforward method, and I've had some experience \"\n",
            "             \"with factoring in other math classes. But I have to admit, I'm \"\n",
            "             'not really sure how to factor a quadratic equation. Can you walk '\n",
            "             'me through the steps?\\n'\n",
            "             '\\n'\n",
            "             'Also, can you give me an example of a quadratic equation that '\n",
            "             'can be factored easily, so I can see how it works? Maybe '\n",
            "             'something like x^2 + 5x + 6 = 0, which you mentioned earlier? '\n",
            "             'How would I factor that equation?',\n",
            "  'name': 'student',\n",
            "  'role': 'assistant'},\n",
            " {'content': \"Factoring is a great method to start with, and it's wonderful \"\n",
            "             'that you have some experience with factoring from other math '\n",
            "             'classes.\\n'\n",
            "             '\\n'\n",
            "             'The steps to factor a quadratic equation are:\\n'\n",
            "             '\\n'\n",
            "             \"1. **Check if the coefficient of x^2 is 1**: If it's not 1, you \"\n",
            "             'may need to factor out the coefficient of x^2 first.\\n'\n",
            "             '2. **Look for two numbers whose product is c (the constant term) '\n",
            "             'and whose sum is b (the coefficient of x)**: These two numbers '\n",
            "             'will help you factor the quadratic equation.\\n'\n",
            "             '3. **Write the quadratic equation as the product of two '\n",
            "             'binomials**: Use the two numbers you found in step 2 to create '\n",
            "             'the factored form.\\n'\n",
            "             '\\n'\n",
            "             \"Let's use the example you mentioned: x^2 + 5x + 6 = 0.\\n\"\n",
            "             '\\n'\n",
            "             'To factor this equation, we need to find two numbers whose '\n",
            "             'product is 6 (the constant term) and whose sum is 5 (the '\n",
            "             'coefficient of x). Can you think of two numbers that fit this '\n",
            "             'description?\\n'\n",
            "             '\\n'\n",
            "             \"After a moment's thought, you might realize that the numbers 2 \"\n",
            "             'and 3 work: 2 × 3 = 6, and 2 + 3 = 5.\\n'\n",
            "             '\\n'\n",
            "             'Now, we can write the quadratic equation as the product of two '\n",
            "             'binomials:\\n'\n",
            "             '\\n'\n",
            "             'x^2 + 5x + 6 = (x + 2)(x + 3) = 0\\n'\n",
            "             '\\n'\n",
            "             'This is the factored form of the equation. From here, we can set '\n",
            "             'each binomial equal to zero and solve for x:\\n'\n",
            "             '\\n'\n",
            "             'x + 2 = 0 or x + 3 = 0\\n'\n",
            "             '\\n'\n",
            "             'Solving for x, we get:\\n'\n",
            "             '\\n'\n",
            "             'x = -2 or x = -3\\n'\n",
            "             '\\n'\n",
            "             'So, the solutions to the equation x^2 + 5x + 6 = 0 are x = -2 '\n",
            "             'and x = -3.\\n'\n",
            "             '\\n'\n",
            "             'Make sense? Do you have any questions about the process or the '\n",
            "             'example?',\n",
            "  'name': 'tutor',\n",
            "  'role': 'user'}]\n"
          ]
        }
      ],
      "source": [
        "import pprint\n",
        "\n",
        "pprint.pprint(result.chat_history)"
      ]
    },
    {
      "cell_type": "code",
      "execution_count": 9,
      "id": "6bea7fcc-4e52-4c67-ac18-66f3097ea06f",
      "metadata": {
        "colab": {
          "base_uri": "https://localhost:8080/"
        },
        "id": "6bea7fcc-4e52-4c67-ac18-66f3097ea06f",
        "outputId": "36a14bf0-4b49-4371-fcf4-7aa35eb74cb4"
      },
      "outputs": [
        {
          "output_type": "stream",
          "name": "stdout",
          "text": [
            "{'usage_excluding_cached_inference': {'llama-3.3-70b-versatile': {'completion_tokens': 822,\n",
            "                                                                  'cost': 0.0,\n",
            "                                                                  'prompt_tokens': 955,\n",
            "                                                                  'total_tokens': 1777},\n",
            "                                      'total_cost': 0.0},\n",
            " 'usage_including_cached_inference': {'llama-3.3-70b-versatile': {'completion_tokens': 822,\n",
            "                                                                  'cost': 0.0,\n",
            "                                                                  'prompt_tokens': 955,\n",
            "                                                                  'total_tokens': 1777},\n",
            "                                      'total_cost': 0.0}}\n"
          ]
        }
      ],
      "source": [
        "pprint.pprint(result.cost)"
      ]
    },
    {
      "cell_type": "code",
      "execution_count": 10,
      "id": "ae6fa0b7-38a7-4d56-868b-f79f4c6a54bd",
      "metadata": {
        "colab": {
          "base_uri": "https://localhost:8080/"
        },
        "id": "ae6fa0b7-38a7-4d56-868b-f79f4c6a54bd",
        "outputId": "9609ec54-98c1-4e7c-ca6b-32d372b25cf1"
      },
      "outputs": [
        {
          "output_type": "stream",
          "name": "stdout",
          "text": [
            "(\"Factoring is a great method to start with, and it's wonderful that you have \"\n",
            " 'some experience with factoring from other math classes.\\n'\n",
            " '\\n'\n",
            " 'The steps to factor a quadratic equation are:\\n'\n",
            " '\\n'\n",
            " \"1. **Check if the coefficient of x^2 is 1**: If it's not 1, you may need to \"\n",
            " 'factor out the coefficient of x^2 first.\\n'\n",
            " '2. **Look for two numbers whose product is c (the constant term) and whose '\n",
            " 'sum is b (the coefficient of x)**: These two numbers will help you factor '\n",
            " 'the quadratic equation.\\n'\n",
            " '3. **Write the quadratic equation as the product of two binomials**: Use the '\n",
            " 'two numbers you found in step 2 to create the factored form.\\n'\n",
            " '\\n'\n",
            " \"Let's use the example you mentioned: x^2 + 5x + 6 = 0.\\n\"\n",
            " '\\n'\n",
            " 'To factor this equation, we need to find two numbers whose product is 6 (the '\n",
            " 'constant term) and whose sum is 5 (the coefficient of x). Can you think of '\n",
            " 'two numbers that fit this description?\\n'\n",
            " '\\n'\n",
            " \"After a moment's thought, you might realize that the numbers 2 and 3 work: 2 \"\n",
            " '× 3 = 6, and 2 + 3 = 5.\\n'\n",
            " '\\n'\n",
            " 'Now, we can write the quadratic equation as the product of two binomials:\\n'\n",
            " '\\n'\n",
            " 'x^2 + 5x + 6 = (x + 2)(x + 3) = 0\\n'\n",
            " '\\n'\n",
            " 'This is the factored form of the equation. From here, we can set each '\n",
            " 'binomial equal to zero and solve for x:\\n'\n",
            " '\\n'\n",
            " 'x + 2 = 0 or x + 3 = 0\\n'\n",
            " '\\n'\n",
            " 'Solving for x, we get:\\n'\n",
            " '\\n'\n",
            " 'x = -2 or x = -3\\n'\n",
            " '\\n'\n",
            " 'So, the solutions to the equation x^2 + 5x + 6 = 0 are x = -2 and x = -3.\\n'\n",
            " '\\n'\n",
            " 'Make sense? Do you have any questions about the process or the example?')\n"
          ]
        }
      ],
      "source": [
        "pprint.pprint(result.summary)"
      ]
    }
  ],
  "metadata": {
    "kernelspec": {
      "display_name": "Python 3 (ipykernel)",
      "language": "python",
      "name": "python3"
    },
    "language_info": {
      "codemirror_mode": {
        "name": "ipython",
        "version": 3
      },
      "file_extension": ".py",
      "mimetype": "text/x-python",
      "name": "python",
      "nbconvert_exporter": "python",
      "pygments_lexer": "ipython3",
      "version": "3.12.3"
    },
    "colab": {
      "provenance": []
    }
  },
  "nbformat": 4,
  "nbformat_minor": 5
}